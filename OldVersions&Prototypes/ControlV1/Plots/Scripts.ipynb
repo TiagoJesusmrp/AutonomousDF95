{
 "cells": [
  {
   "cell_type": "code",
   "execution_count": 2,
   "id": "9908fc5f",
   "metadata": {},
   "outputs": [
    {
     "ename": "FileNotFoundError",
     "evalue": "[Errno 2] No such file or directory: 'TesteControloV1_21_7.txt'",
     "output_type": "error",
     "traceback": [
      "\u001b[1;31m---------------------------------------------------------------------------\u001b[0m",
      "\u001b[1;31mFileNotFoundError\u001b[0m                         Traceback (most recent call last)",
      "Cell \u001b[1;32mIn[2], line 7\u001b[0m\n\u001b[0;32m      4\u001b[0m \u001b[38;5;28;01mimport\u001b[39;00m \u001b[38;5;21;01mcsv\u001b[39;00m\n\u001b[0;32m      6\u001b[0m \u001b[38;5;66;03m# Open the original CSV file\u001b[39;00m\n\u001b[1;32m----> 7\u001b[0m \u001b[38;5;28;01mwith\u001b[39;00m \u001b[38;5;28;43mopen\u001b[39;49m\u001b[43m(\u001b[49m\u001b[38;5;124;43m'\u001b[39;49m\u001b[38;5;124;43mTesteControloV1_21_7.txt\u001b[39;49m\u001b[38;5;124;43m'\u001b[39;49m\u001b[43m,\u001b[49m\u001b[43m \u001b[49m\u001b[38;5;124;43m'\u001b[39;49m\u001b[38;5;124;43mr\u001b[39;49m\u001b[38;5;124;43m'\u001b[39;49m\u001b[43m)\u001b[49m \u001b[38;5;28;01mas\u001b[39;00m file:\n\u001b[0;32m      8\u001b[0m     reader \u001b[38;5;241m=\u001b[39m csv\u001b[38;5;241m.\u001b[39mreader(file)\n\u001b[0;32m      9\u001b[0m     header \u001b[38;5;241m=\u001b[39m \u001b[38;5;28mnext\u001b[39m(reader)  \u001b[38;5;66;03m# Read the header line\u001b[39;00m\n",
      "File \u001b[1;32m~\\AppData\\Local\\Packages\\PythonSoftwareFoundation.Python.3.10_qbz5n2kfra8p0\\LocalCache\\local-packages\\Python310\\site-packages\\IPython\\core\\interactiveshell.py:284\u001b[0m, in \u001b[0;36m_modified_open\u001b[1;34m(file, *args, **kwargs)\u001b[0m\n\u001b[0;32m    277\u001b[0m \u001b[38;5;28;01mif\u001b[39;00m file \u001b[38;5;129;01min\u001b[39;00m {\u001b[38;5;241m0\u001b[39m, \u001b[38;5;241m1\u001b[39m, \u001b[38;5;241m2\u001b[39m}:\n\u001b[0;32m    278\u001b[0m     \u001b[38;5;28;01mraise\u001b[39;00m \u001b[38;5;167;01mValueError\u001b[39;00m(\n\u001b[0;32m    279\u001b[0m         \u001b[38;5;124mf\u001b[39m\u001b[38;5;124m\"\u001b[39m\u001b[38;5;124mIPython won\u001b[39m\u001b[38;5;124m'\u001b[39m\u001b[38;5;124mt let you open fd=\u001b[39m\u001b[38;5;132;01m{\u001b[39;00mfile\u001b[38;5;132;01m}\u001b[39;00m\u001b[38;5;124m by default \u001b[39m\u001b[38;5;124m\"\u001b[39m\n\u001b[0;32m    280\u001b[0m         \u001b[38;5;124m\"\u001b[39m\u001b[38;5;124mas it is likely to crash IPython. If you know what you are doing, \u001b[39m\u001b[38;5;124m\"\u001b[39m\n\u001b[0;32m    281\u001b[0m         \u001b[38;5;124m\"\u001b[39m\u001b[38;5;124myou can use builtins\u001b[39m\u001b[38;5;124m'\u001b[39m\u001b[38;5;124m open.\u001b[39m\u001b[38;5;124m\"\u001b[39m\n\u001b[0;32m    282\u001b[0m     )\n\u001b[1;32m--> 284\u001b[0m \u001b[38;5;28;01mreturn\u001b[39;00m io_open(file, \u001b[38;5;241m*\u001b[39margs, \u001b[38;5;241m*\u001b[39m\u001b[38;5;241m*\u001b[39mkwargs)\n",
      "\u001b[1;31mFileNotFoundError\u001b[0m: [Errno 2] No such file or directory: 'TesteControloV1_21_7.txt'"
     ]
    }
   ],
   "source": [
    "\"\"\"\n",
    "Takes the full data file \"12_7\" and separates each mission into a different file containing all data columns\n",
    "\"\"\"\n",
    "import csv\n",
    "\n",
    "# Open the original CSV file\n",
    "with open(f'TesteControloV1_21_7.txt', 'r') as file:\n",
    "    reader = csv.reader(file)\n",
    "    header = next(reader)  # Read the header line\n",
    "\n",
    "    mission_num = 1  # Counter for mission number\n",
    "    mission_data = []  # List to store mission data\n",
    "\n",
    "    for row in reader:\n",
    "        if row[0] == 'MISSION START':\n",
    "            # Check if there is any data for the previous mission\n",
    "            if mission_data:\n",
    "                # Create a new CSV file for the previous mission\n",
    "                with open(f'Mission{mission_num}.csv', 'w', newline='') as mission_file:\n",
    "                    writer = csv.writer(mission_file)\n",
    "                    writer.writerow(header)\n",
    "                    writer.writerows(mission_data)\n",
    "                mission_num += 1  # Increment mission number\n",
    "                mission_data = []  # Reset mission data list\n",
    "        elif row[0] == 'MISSION END':\n",
    "            continue  # Skip the \"MISSION END\" line\n",
    "        else:\n",
    "            mission_data.append(row)  # Add data to mission data list\n",
    "\n",
    "    # Create a new CSV file for the last mission\n",
    "    with open(f'Mission{mission_num}.csv', 'w', newline='') as mission_file:\n",
    "        writer = csv.writer(mission_file)\n",
    "        writer.writerow(header)\n",
    "        writer.writerows(mission_data)\n"
   ]
  },
  {
   "cell_type": "code",
   "execution_count": 1,
   "id": "0de6dfa1",
   "metadata": {},
   "outputs": [],
   "source": [
    "\"\"\"\n",
    "Reads each \"Mission#\" file and creates a \"Coord#\" file with only the lat and lon columns for creating the MAP pic\n",
    "\"\"\"\n",
    "\n",
    "import csv\n",
    "import glob\n",
    "\n",
    "# Find all Mission files\n",
    "mission_files = glob.glob('Mission*.csv')\n",
    "\n",
    "for mission_file in mission_files:\n",
    "    # Extract mission number from the file name\n",
    "    mission_num = mission_file.split('.')[0].split('Mission')[1]\n",
    "\n",
    "    # Create a new Coord file for the current mission\n",
    "    with open(f'Coord{mission_num}.csv', 'w', newline='') as coord_file:\n",
    "        writer = csv.writer(coord_file)\n",
    "\n",
    "        # Open the current mission file\n",
    "        with open(mission_file, 'r') as file:\n",
    "            reader = csv.reader(file)\n",
    "            header = next(reader)  # Read the header line\n",
    "\n",
    "            # Find the indices of the latitude and longitude columns\n",
    "            lat_index = header.index(' Latitude')\n",
    "            lon_index = header.index(' Longitude')\n",
    "\n",
    "            # Write the header line to the Coord file\n",
    "            writer.writerow(['lat', 'lon'])\n",
    "\n",
    "            # Iterate over the rows and extract latitude and longitude values\n",
    "            for row in reader:\n",
    "                lat = row[lat_index]\n",
    "                lon = row[lon_index]\n",
    "                writer.writerow([lat, lon])\n"
   ]
  },
  {
   "cell_type": "code",
   "execution_count": null,
   "id": "34adc7fa",
   "metadata": {},
   "outputs": [],
   "source": []
  }
 ],
 "metadata": {
  "kernelspec": {
   "display_name": "Python 3 (ipykernel)",
   "language": "python",
   "name": "python3"
  },
  "language_info": {
   "codemirror_mode": {
    "name": "ipython",
    "version": 3
   },
   "file_extension": ".py",
   "mimetype": "text/x-python",
   "name": "python",
   "nbconvert_exporter": "python",
   "pygments_lexer": "ipython3",
   "version": "3.10.11"
  }
 },
 "nbformat": 4,
 "nbformat_minor": 5
}
